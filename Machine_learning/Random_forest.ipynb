{
 "cells": [
  {
   "cell_type": "code",
   "execution_count": 4,
   "metadata": {},
   "outputs": [],
   "source": [
    "import pandas as pd#pandasのインポート\n",
    "import os \n",
    "import datetime#元データの日付処理のためにインポート\n",
    "from sklearn.model_selection import train_test_split#データ分割用\n",
    "from sklearn.ensemble import RandomForestClassifier#ランダムフォレスト\n"
   ]
  },
  {
   "cell_type": "code",
   "execution_count": 11,
   "metadata": {},
   "outputs": [
    {
     "name": "stdout",
     "output_type": "stream",
     "text": [
      "c:\\Users\\Okamura\\ドキュメント\\vaps\\Machine_learning\n"
     ]
    }
   ],
   "source": [
    "\n",
    "path=os.getcwd()\n",
    "print(path)\n",
    "df = pd.read_csv(os.path.join(path,\"ks-projects-201801.csv\"))"
   ]
  },
  {
   "cell_type": "code",
   "execution_count": 12,
   "metadata": {},
   "outputs": [
    {
     "name": "stderr",
     "output_type": "stream",
     "text": [
      "C:\\Users\\Okamura\\AppData\\Local\\Temp\\ipykernel_7940\\1962540418.py:7: FutureWarning: Downcasting behavior in `replace` is deprecated and will be removed in a future version. To retain the old behavior, explicitly call `result.infer_objects(copy=False)`. To opt-in to the future behavior, set `pd.set_option('future.no_silent_downcasting', True)`\n",
      "  df[\"state\"] = df[\"state\"].replace(\"successful\",1)\n"
     ]
    }
   ],
   "source": [
    "df['deadline'] = pd.to_datetime(df[\"deadline\"])\n",
    "df[\"launched\"] = pd.to_datetime(df[\"launched\"])\n",
    "df[\"days\"] = (df[\"deadline\"] - df[\"launched\"]).dt.days\n",
    "\n",
    "df = df[(df[\"state\"] == \"successful\") | (df[\"state\"] == \"failed\")]\n",
    "df[\"state\"] = df[\"state\"].replace(\"failed\",0)\n",
    "df[\"state\"] = df[\"state\"].replace(\"successful\",1)\n",
    "\n",
    "df = df.drop([\"ID\",\"name\",\"deadline\",\"launched\",\"backers\",\"pledged\",\"usd pledged\",\"usd_pledged_real\",\"usd_goal_real\"], axis=1)\n",
    "df = pd.get_dummies(df,drop_first = True)\n"
   ]
  },
  {
   "cell_type": "code",
   "execution_count": 13,
   "metadata": {},
   "outputs": [
    {
     "name": "stdout",
     "output_type": "stream",
     "text": [
      "score= 0.6488749082942222\n"
     ]
    }
   ],
   "source": [
    "train_data = df.drop(\"state\", axis=1)\n",
    "y = df[\"state\"].values\n",
    "X = train_data.values\n",
    "\n",
    "X_train, X_test, y_train, y_test = train_test_split(X, y, test_size=0.3, random_state=1234)\n",
    "\n",
    "clf = RandomForestClassifier(random_state=1234)\n",
    "clf.fit(X_train, y_train)\n",
    "print(\"score=\", clf.score(X_test, y_test))\n",
    "\n"
   ]
  }
 ],
 "metadata": {
  "kernelspec": {
   "display_name": ".venv",
   "language": "python",
   "name": "python3"
  },
  "language_info": {
   "codemirror_mode": {
    "name": "ipython",
    "version": 3
   },
   "file_extension": ".py",
   "mimetype": "text/x-python",
   "name": "python",
   "nbconvert_exporter": "python",
   "pygments_lexer": "ipython3",
   "version": "3.9.13"
  }
 },
 "nbformat": 4,
 "nbformat_minor": 2
}
